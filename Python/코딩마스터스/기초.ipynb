{
 "cells": [
  {
   "cell_type": "code",
   "execution_count": null,
   "id": "e0c01277",
   "metadata": {},
   "outputs": [
    {
     "name": "stdout",
     "output_type": "stream",
     "text": [
      "30\n"
     ]
    }
   ],
   "source": [
    "# 10배\n",
    "num=int(input())\n",
    "print(num*10)"
   ]
  },
  {
   "cell_type": "code",
   "execution_count": null,
   "id": "413fe224",
   "metadata": {},
   "outputs": [],
   "source": [
    "# 16배 나누어 출력하기\n",
    "num=int(input())\n",
    "print(num//16)"
   ]
  },
  {
   "cell_type": "code",
   "execution_count": null,
   "id": "07df0f9f",
   "metadata": {},
   "outputs": [],
   "source": [
    "# 1등급 한우\n",
    "\n",
    "w=int(input())\n",
    "\n",
    "if w>=200: print(\"A\")\n",
    "elif w>=180: print(\"B\")\n",
    "elif w>=150: print(\"C\")\n",
    "else: print(\"D\")"
   ]
  },
  {
   "cell_type": "code",
   "execution_count": null,
   "id": "e828971c",
   "metadata": {},
   "outputs": [],
   "source": [
    "# 3으로 나눈 나머지\n",
    "num=int(input())\n",
    "print(num%3)"
   ]
  },
  {
   "cell_type": "code",
   "execution_count": null,
   "id": "4e9611bc",
   "metadata": {},
   "outputs": [
    {
     "name": "stdout",
     "output_type": "stream",
     "text": [
      "34 1c\n"
     ]
    }
   ],
   "source": [
    "# 8진수와 16진수\n",
    "num=int(input())\n",
    "oct_num=format(num,\"o\")\n",
    "hex_num=format(num,\"X\")\n",
    "print(oct_num,hex_num)"
   ]
  },
  {
   "cell_type": "code",
   "execution_count": null,
   "id": "c8688ab2",
   "metadata": {},
   "outputs": [
    {
     "name": "stdout",
     "output_type": "stream",
     "text": [
      "143 63\n"
     ]
    }
   ],
   "source": [
    "# 8진수와 16진수\n",
    "num=int(input())\n",
    "def d_2_o(num):\n",
    "    output=[]\n",
    "    while True:\n",
    "        output.append(f\"{num%8}\")\n",
    "        num=num//8\n",
    "        if num==0: break\n",
    "    output.reverse()\n",
    "    output=\"\".join(output)\n",
    "    return output\n",
    "\n",
    "def d_2_h(num):\n",
    "    output=[]\n",
    "    while True:\n",
    "        temp=num%16\n",
    "        if temp<10: output.append(f\"{num%16}\")\n",
    "        elif temp==10: output.append(\"A\")\n",
    "        elif temp==11: output.append(\"B\")\n",
    "        elif temp==12: output.append(\"C\")\n",
    "        elif temp==13: output.append(\"D\")\n",
    "        elif temp==14: output.append(\"E\")\n",
    "        else: output.append(\"F\")\n",
    "        num=num//16\n",
    "        if num==0: break\n",
    "    output.reverse()\n",
    "    output=\"\".join(output)\n",
    "    return output\n",
    "\n",
    "print(d_2_o(num), d_2_h(num))"
   ]
  }
 ],
 "metadata": {
  "kernelspec": {
   "display_name": "Python 3",
   "language": "python",
   "name": "python3"
  },
  "language_info": {
   "codemirror_mode": {
    "name": "ipython",
    "version": 3
   },
   "file_extension": ".py",
   "mimetype": "text/x-python",
   "name": "python",
   "nbconvert_exporter": "python",
   "pygments_lexer": "ipython3",
   "version": "3.11.6"
  }
 },
 "nbformat": 4,
 "nbformat_minor": 5
}
