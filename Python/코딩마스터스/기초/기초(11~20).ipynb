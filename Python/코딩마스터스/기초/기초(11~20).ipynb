{
 "cells": [
  {
   "cell_type": "code",
   "execution_count": 4,
   "id": "09d602ab",
   "metadata": {},
   "outputs": [
    {
     "name": "stdout",
     "output_type": "stream",
     "text": [
      "s a d k f a s c\n"
     ]
    }
   ],
   "source": [
    "# 비밀번호 찾기 input=sys.stdin.readline\n",
    "str_list=list(map(str,input().split()))\n",
    "c_index=str_list.index('c')+1\n",
    "passwd=\" \".join(str_list[:c_index])\n",
    "print(passwd)"
   ]
  },
  {
   "cell_type": "code",
   "execution_count": null,
   "id": "48e4af14",
   "metadata": {},
   "outputs": [],
   "source": [
    "# 비밀번호 찾기 input=sys.stdin.readline\n",
    "str_list=list(map(str,input().split()))\n",
    "c_index=str_list.index('c')+1\n",
    "passwd=\" \".join(str_list[:c_index])\n",
    "print(passwd)"
   ]
  },
  {
   "cell_type": "code",
   "execution_count": 6,
   "id": "e0fd8acc",
   "metadata": {},
   "outputs": [
    {
     "name": "stdout",
     "output_type": "stream",
     "text": [
      "s a d k f a s c\n"
     ]
    }
   ],
   "source": [
    "# 비밀번호 찾기 input=sys.stdin.readline\n",
    "str_list=list(map(str,input().split()))\n",
    "for i in range(len(str_list)):\n",
    "    if str_list[i]==\"c\":\n",
    "        c_index=i+1\n",
    "        break\n",
    "passwd=\" \".join(str_list[:c_index])\n",
    "print(passwd)"
   ]
  },
  {
   "cell_type": "code",
   "execution_count": 8,
   "id": "1af6c4b7",
   "metadata": {},
   "outputs": [
    {
     "name": "stdout",
     "output_type": "stream",
     "text": [
      "F\n"
     ]
    }
   ],
   "source": [
    "# 삼각형의 조건 input=sys.stdin.readline\n",
    "a, b, c=map(int,input().split())\n",
    "if (a+b+c)==180: print(\"P\")\n",
    "else: print(\"F\")"
   ]
  },
  {
   "cell_type": "code",
   "execution_count": 11,
   "id": "5fe7bb6a",
   "metadata": {},
   "outputs": [
    {
     "name": "stdout",
     "output_type": "stream",
     "text": [
      "3\n"
     ]
    }
   ],
   "source": [
    "# 소수 구하기 input=sys.stdin.readline\n",
    "num=int(input())\n",
    "prime_list=[True]*1001\n",
    "prime_list[0]=False; prime_list[1]=False\n",
    "for i in range(2, num):\n",
    "    if not prime_list[i]: continue\n",
    "    m=2\n",
    "    while True:\n",
    "        temp=i*m\n",
    "        if temp>1000: break\n",
    "        prime_list[temp]=False\n",
    "        m=m+1\n",
    "\n",
    "count=0\n",
    "for i in range(2, num):    \n",
    "    if prime_list[i]: count+=1\n",
    "print(count)\n"
   ]
  },
  {
   "cell_type": "code",
   "execution_count": 17,
   "id": "8535c62d",
   "metadata": {},
   "outputs": [
    {
     "name": "stdout",
     "output_type": "stream",
     "text": [
      "6\n"
     ]
    }
   ],
   "source": [
    "# 아까운 쿠폰 input=sys.stdin.readline\n",
    "num=int(input())\n",
    "num=num//10\n",
    "count=0\n",
    "for _ in range(4):\n",
    "    if num==0: break\n",
    "    temp=num%10\n",
    "    count=count+(temp//5)+(temp%5)\n",
    "    num=num//10\n",
    "count=count+num*2\n",
    "print(count)"
   ]
  },
  {
   "cell_type": "code",
   "execution_count": 27,
   "id": "d4b954e2",
   "metadata": {},
   "outputs": [
    {
     "name": "stdout",
     "output_type": "stream",
     "text": [
      "A\n"
     ]
    }
   ],
   "source": [
    "# 아스키 코드 input=sys.stdin.readline\n",
    "num=int(input())\n",
    "print(chr(num))"
   ]
  }
 ],
 "metadata": {
  "kernelspec": {
   "display_name": "aivle",
   "language": "python",
   "name": "python3"
  },
  "language_info": {
   "codemirror_mode": {
    "name": "ipython",
    "version": 3
   },
   "file_extension": ".py",
   "mimetype": "text/x-python",
   "name": "python",
   "nbconvert_exporter": "python",
   "pygments_lexer": "ipython3",
   "version": "3.11.13"
  }
 },
 "nbformat": 4,
 "nbformat_minor": 5
}
