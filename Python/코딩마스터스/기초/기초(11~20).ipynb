{
 "cells": [
  {
   "cell_type": "code",
   "execution_count": 4,
   "id": "09d602ab",
   "metadata": {},
   "outputs": [
    {
     "name": "stdout",
     "output_type": "stream",
     "text": [
      "s a d k f a s c\n"
     ]
    }
   ],
   "source": [
    "# 비밀번호 찾기 input=sys.stdin.readline\n",
    "str_list=list(map(str,input().split()))\n",
    "c_index=str_list.index('c')+1\n",
    "passwd=\" \".join(str_list[:c_index])\n",
    "print(passwd)"
   ]
  },
  {
   "cell_type": "code",
   "execution_count": null,
   "id": "48e4af14",
   "metadata": {},
   "outputs": [],
   "source": [
    "# 비밀번호 찾기 input=sys.stdin.readline\n",
    "str_list=list(map(str,input().split()))\n",
    "c_index=str_list.index('c')+1\n",
    "passwd=\" \".join(str_list[:c_index])\n",
    "print(passwd)"
   ]
  },
  {
   "cell_type": "code",
   "execution_count": 6,
   "id": "e0fd8acc",
   "metadata": {},
   "outputs": [
    {
     "name": "stdout",
     "output_type": "stream",
     "text": [
      "s a d k f a s c\n"
     ]
    }
   ],
   "source": [
    "# 비밀번호 찾기 input=sys.stdin.readline\n",
    "str_list=list(map(str,input().split()))\n",
    "for i in range(len(str_list)):\n",
    "    if str_list[i]==\"c\":\n",
    "        c_index=i+1\n",
    "        break\n",
    "passwd=\" \".join(str_list[:c_index])\n",
    "print(passwd)"
   ]
  },
  {
   "cell_type": "code",
   "execution_count": 8,
   "id": "1af6c4b7",
   "metadata": {},
   "outputs": [
    {
     "name": "stdout",
     "output_type": "stream",
     "text": [
      "F\n"
     ]
    }
   ],
   "source": [
    "# 삼각형의 조건 input=sys.stdin.readline\n",
    "a, b, c=map(int,input().split())\n",
    "if (a+b+c)==180: print(\"P\")\n",
    "else: print(\"F\")"
   ]
  },
  {
   "cell_type": "code",
   "execution_count": 11,
   "id": "5fe7bb6a",
   "metadata": {},
   "outputs": [
    {
     "name": "stdout",
     "output_type": "stream",
     "text": [
      "3\n"
     ]
    }
   ],
   "source": [
    "# 소수 구하기 input=sys.stdin.readline\n",
    "num=int(input())\n",
    "prime_list=[True]*1001\n",
    "prime_list[0]=False; prime_list[1]=False\n",
    "for i in range(2, num):\n",
    "    if not prime_list[i]: continue\n",
    "    m=2\n",
    "    while True:\n",
    "        temp=i*m\n",
    "        if temp>1000: break\n",
    "        prime_list[temp]=False\n",
    "        m=m+1\n",
    "\n",
    "count=0\n",
    "for i in range(2, num):    \n",
    "    if prime_list[i]: count+=1\n",
    "print(count)\n"
   ]
  },
  {
   "cell_type": "code",
   "execution_count": 17,
   "id": "8535c62d",
   "metadata": {},
   "outputs": [
    {
     "name": "stdout",
     "output_type": "stream",
     "text": [
      "6\n"
     ]
    }
   ],
   "source": [
    "# 아까운 쿠폰 input=sys.stdin.readline\n",
    "num=int(input())\n",
    "num=num//10\n",
    "count=0\n",
    "for _ in range(4):\n",
    "    if num==0: break\n",
    "    temp=num%10\n",
    "    count=count+(temp//5)+(temp%5)\n",
    "    num=num//10\n",
    "count=count+num*2\n",
    "print(count)"
   ]
  },
  {
   "cell_type": "code",
   "execution_count": 27,
   "id": "d4b954e2",
   "metadata": {},
   "outputs": [
    {
     "name": "stdout",
     "output_type": "stream",
     "text": [
      "A\n"
     ]
    }
   ],
   "source": [
    "# 아스키 코드 input=sys.stdin.readline\n",
    "num=int(input())\n",
    "print(chr(num))"
   ]
  },
  {
   "cell_type": "code",
   "execution_count": 33,
   "id": "09c05b36",
   "metadata": {},
   "outputs": [
    {
     "name": "stdout",
     "output_type": "stream",
     "text": [
      "P\n"
     ]
    }
   ],
   "source": [
    "# 아이디 만들기 input=sys.stdin.readline\n",
    "id=input()\n",
    "id_len=(len(id))\n",
    "id_bool=True\n",
    "if id_len>20: id_bool=False\n",
    "else:\n",
    "    for i in id:\n",
    "        is_alpha = ord(\"a\")<=ord(i)<=ord(\"z\") or ord(\"A\")<=ord(i)<=ord(\"Z\")\n",
    "        if not is_alpha:\n",
    "            printid_bool=False\n",
    "            break\n",
    "    \n",
    "if id_bool: print(\"P\")\n",
    "else: print(\"I\")"
   ]
  },
  {
   "cell_type": "code",
   "execution_count": null,
   "id": "1b5ae7f8",
   "metadata": {},
   "outputs": [
    {
     "name": "stdout",
     "output_type": "stream",
     "text": [
      "dong\n",
      "back\n",
      "pang\n"
     ]
    }
   ],
   "source": [
    "# 우리반 아이큐왕은 input=sys.stdin.readline\n",
    "N=int(input())\n",
    "name_list=[[] for _ in range(201)]\n",
    "for _ in range(N):\n",
    "    name, score=input().split()\n",
    "    score=int(score)\n",
    "    name_list[score].append(name)\n",
    "\n",
    "count=3\n",
    "for i in range(200,0,-1):\n",
    "    if count==0: break\n",
    "    if name_list[i]:\n",
    "        for n in name_list[i]:\n",
    "            if count==0: break\n",
    "            print(n)\n",
    "            count-=1"
   ]
  },
  {
   "cell_type": "code",
   "execution_count": 2,
   "id": "a959ec56",
   "metadata": {},
   "outputs": [
    {
     "name": "stdout",
     "output_type": "stream",
     "text": [
      "314\n"
     ]
    }
   ],
   "source": [
    "# 원의 넓이 input=sys.stdin.readline\n",
    "N=int(input())\n",
    "c_area=(N**2)*3.14\n",
    "output=f\"{c_area:.2f}\".rstrip(\"0\").rstrip(\".\")\n",
    "print(output)\n"
   ]
  },
  {
   "cell_type": "code",
   "execution_count": null,
   "id": "df2fd32f",
   "metadata": {},
   "outputs": [
    {
     "name": "stdout",
     "output_type": "stream",
     "text": [
      "177\n"
     ]
    }
   ],
   "source": [
    "# 자녀의 키는 input=sys.stdin.readline\n",
    "f, m=map(int,input().split())\n",
    "print((f+m)//2)"
   ]
  },
  {
   "cell_type": "code",
   "execution_count": 71,
   "id": "3d635ce7",
   "metadata": {},
   "outputs": [
    {
     "name": "stdout",
     "output_type": "stream",
     "text": [
      "2\n"
     ]
    }
   ],
   "source": [
    "# 최대공약수 input=sys.stdin.readline\n",
    "N, M=map(int,input().split())\n",
    "\n",
    "def gcm(n, m):\n",
    "    if n < m: n, m=m, n\n",
    "    remain=n%m\n",
    "    if remain==0: return m\n",
    "    else: return gcm(m, remain)\n",
    "\n",
    "print(gcm(N, M))"
   ]
  }
 ],
 "metadata": {
  "kernelspec": {
   "display_name": "aivle",
   "language": "python",
   "name": "python3"
  },
  "language_info": {
   "codemirror_mode": {
    "name": "ipython",
    "version": 3
   },
   "file_extension": ".py",
   "mimetype": "text/x-python",
   "name": "python",
   "nbconvert_exporter": "python",
   "pygments_lexer": "ipython3",
   "version": "3.11.13"
  }
 },
 "nbformat": 4,
 "nbformat_minor": 5
}
