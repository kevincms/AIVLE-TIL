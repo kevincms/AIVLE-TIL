{
 "cells": [
  {
   "cell_type": "code",
   "execution_count": null,
   "id": "e0c01277",
   "metadata": {},
   "outputs": [
    {
     "name": "stdout",
     "output_type": "stream",
     "text": [
      "30\n"
     ]
    }
   ],
   "source": [
    "# 10배\n",
    "num=int(input())\n",
    "print(num*10)"
   ]
  },
  {
   "cell_type": "code",
   "execution_count": null,
   "id": "413fe224",
   "metadata": {},
   "outputs": [],
   "source": [
    "# 16배 나누어 출력하기\n",
    "num=int(input())\n",
    "print(num//16)"
   ]
  },
  {
   "cell_type": "code",
   "execution_count": null,
   "id": "07df0f9f",
   "metadata": {},
   "outputs": [],
   "source": [
    "# 1등급 한우\n",
    "\n",
    "w=int(input())\n",
    "\n",
    "if w>=200: print(\"A\")\n",
    "elif w>=180: print(\"B\")\n",
    "elif w>=150: print(\"C\")\n",
    "else: print(\"D\")"
   ]
  },
  {
   "cell_type": "code",
   "execution_count": null,
   "id": "e828971c",
   "metadata": {},
   "outputs": [],
   "source": [
    "# 3으로 나눈 나머지\n",
    "num=int(input())\n",
    "print(num%3)"
   ]
  },
  {
   "cell_type": "code",
   "execution_count": null,
   "id": "4e9611bc",
   "metadata": {},
   "outputs": [
    {
     "name": "stdout",
     "output_type": "stream",
     "text": [
      "34 1c\n"
     ]
    }
   ],
   "source": [
    "# 8진수와 16진수\n",
    "num=int(input())\n",
    "oct_num=format(num,\"o\")\n",
    "hex_num=format(num,\"X\")\n",
    "print(oct_num,hex_num)"
   ]
  },
  {
   "cell_type": "code",
   "execution_count": null,
   "id": "c8688ab2",
   "metadata": {},
   "outputs": [
    {
     "name": "stdout",
     "output_type": "stream",
     "text": [
      "143 63\n"
     ]
    }
   ],
   "source": [
    "# 8진수와 16진수\n",
    "num=int(input())\n",
    "def d_2_o(num):\n",
    "    output=[]\n",
    "    while True:\n",
    "        output.append(f\"{num%8}\")\n",
    "        num=num//8\n",
    "        if num==0: break\n",
    "    output.reverse()\n",
    "    output=\"\".join(output)\n",
    "    return output\n",
    "\n",
    "def d_2_h(num):\n",
    "    output=[]\n",
    "    while True:\n",
    "        temp=num%16\n",
    "        if temp<10: output.append(f\"{num%16}\")\n",
    "        elif temp==10: output.append(\"A\")\n",
    "        elif temp==11: output.append(\"B\")\n",
    "        elif temp==12: output.append(\"C\")\n",
    "        elif temp==13: output.append(\"D\")\n",
    "        elif temp==14: output.append(\"E\")\n",
    "        else: output.append(\"F\")\n",
    "        num=num//16\n",
    "        if num==0: break\n",
    "    output.reverse()\n",
    "    output=\"\".join(output)\n",
    "    return output\n",
    "\n",
    "print(d_2_o(num), d_2_h(num))"
   ]
  },
  {
   "cell_type": "code",
   "execution_count": 5,
   "id": "2320702c",
   "metadata": {},
   "outputs": [
    {
     "name": "stdout",
     "output_type": "stream",
     "text": [
      "Me\n"
     ]
    }
   ],
   "source": [
    "# You\n",
    "chat=input()\n",
    "chat=chat.strip()\n",
    "if chat==\"You\": print(\"Me\")\n",
    "else: print(\"No\")"
   ]
  },
  {
   "cell_type": "code",
   "execution_count": null,
   "id": "f1a0f688",
   "metadata": {},
   "outputs": [],
   "source": [
    "# 가장 큰 나머지\n",
    "num=input()\n",
    "remain_5=num%5\n",
    "remain_7=num%7\n",
    "if remain_5>remain_7: print(remain_5)\n",
    "else: print(remain_7)"
   ]
  },
  {
   "cell_type": "code",
   "execution_count": null,
   "id": "3e30ebcc",
   "metadata": {},
   "outputs": [
    {
     "name": "stdout",
     "output_type": "stream",
     "text": [
      "4\n"
     ]
    }
   ],
   "source": [
    "# 기억상실 input=sys.stdin.readline\n",
    "import math\n",
    "A, B, N=map(int,input().split())\n",
    "div_1=N-A\n",
    "div_2=A-B\n",
    "count=math.ceil(div_1/div_2)\n",
    "print(count+1)"
   ]
  },
  {
   "cell_type": "code",
   "execution_count": null,
   "id": "b3fe8819",
   "metadata": {},
   "outputs": [
    {
     "name": "stdout",
     "output_type": "stream",
     "text": [
      "3\n"
     ]
    }
   ],
   "source": [
    "# 등차수열 input=sys.stdin.readline\n",
    "A, B, N=map(int,input().split())\n",
    "print((N-1)*B+A)"
   ]
  },
  {
   "cell_type": "code",
   "execution_count": null,
   "id": "cd3a76fc",
   "metadata": {},
   "outputs": [
    {
     "name": "stdout",
     "output_type": "stream",
     "text": [
      "I 1\n"
     ]
    }
   ],
   "source": [
    "# 림보게임 input=sys.stdin.readline\n",
    "N=input()\n",
    "num_list=list(map(int,input().split()))\n",
    "fisrt_crush=-1\n",
    "for i in num_list:\n",
    "    if i<=160:\n",
    "        fisrt_crush=i\n",
    "        break\n",
    "if fisrt_crush==-1: print(\"P\")\n",
    "else: print(f\"I {fisrt_crush}\")"
   ]
  }
 ],
 "metadata": {
  "kernelspec": {
   "display_name": "aivle",
   "language": "python",
   "name": "python3"
  },
  "language_info": {
   "codemirror_mode": {
    "name": "ipython",
    "version": 3
   },
   "file_extension": ".py",
   "mimetype": "text/x-python",
   "name": "python",
   "nbconvert_exporter": "python",
   "pygments_lexer": "ipython3",
   "version": "3.11.13"
  }
 },
 "nbformat": 4,
 "nbformat_minor": 5
}
