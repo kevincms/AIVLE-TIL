{
 "cells": [
  {
   "cell_type": "code",
   "execution_count": 2,
   "id": "3d520f91",
   "metadata": {},
   "outputs": [
    {
     "name": "stdout",
     "output_type": "stream",
     "text": [
      "43875\n"
     ]
    }
   ],
   "source": [
    "# N을 보는 시각 input=sys.stdin.readline\n",
    "N=int(input())\n",
    "count=0\n",
    "for h in range(24):\n",
    "    for m in range(60):\n",
    "        for s in range(60):\n",
    "            c1=(h%10)==N or (h//10)==N\n",
    "            c2=(m%10)==N or (m//10)==N\n",
    "            c3=(s%10)==N or (s//10)==N\n",
    "            if c1 or c2 or c3: count+=1\n",
    "print(count)"
   ]
  },
  {
   "cell_type": "code",
   "execution_count": 8,
   "id": "843a21e5",
   "metadata": {},
   "outputs": [
    {
     "name": "stdout",
     "output_type": "stream",
     "text": [
      "NO\n"
     ]
    }
   ],
   "source": [
    "# 가우스와 정다각형 input=sys.stdin.readline\n",
    "num=int(input())\n",
    "while True:\n",
    "   if num%2==0:\n",
    "      num=num//2\n",
    "      continue\n",
    "   break\n",
    "\n",
    "f_prime_m1=[2]\n",
    "while True:\n",
    "    temp=f_prime_m1[-1]\n",
    "    if temp>num: break\n",
    "    f_prime_m1.append(2*temp)\n",
    "\n",
    "for i in f_prime_m1:\n",
    "    if num%(i+1)==0: num=num//(i+1)\n",
    "\n",
    "if num==1: print(\"YES\")\n",
    "else: print(\"NO\")\n"
   ]
  },
  {
   "cell_type": "code",
   "execution_count": 12,
   "id": "feb23dd5",
   "metadata": {},
   "outputs": [
    {
     "name": "stdout",
     "output_type": "stream",
     "text": [
      "15\n"
     ]
    }
   ],
   "source": [
    "# 계단 input=sys.stdin.readline\n",
    "N, K=map(int,input().split())\n",
    "q=(K-N)//3\n",
    "r=(K-N)%3\n",
    "if r==1: print(q+3)\n",
    "elif r==2: print(q+2)\n",
    "else: print(q)"
   ]
  },
  {
   "cell_type": "code",
   "execution_count": null,
   "id": "29fdc063",
   "metadata": {},
   "outputs": [],
   "source": [
    "# 구간 단속 input=sys.stdin.readline\n",
    "\n",
    "meter=int(input())\n",
    "N=int(input())\n",
    "log_list=[[] for _ in range(N)]\n",
    "output_list=[[] for _ in range(N)]\n",
    "\n",
    "for i in range(N):\n",
    "    car_num, start_time=input().split()\n",
    "    temp=list(map(int,start_time.split(\":\")))\n",
    "    log_list[i]=[car_num, temp]\n",
    "\n",
    "def diff_time(start,end):\n",
    "    start_time=start[0]*60*60+start[1]*60+start[2]\n",
    "    end_time=end[0]*60*60+end[1]*60+end[2]\n",
    "    return end_time-start_time\n",
    "    \n",
    "\n",
    "for i in range(N):\n",
    "    car_num, end_time=input().split()\n",
    "    for c in log_list:\n",
    "        if c[0]==car_num:\n",
    "            start_time=c[1]\n",
    "            break\n",
    "    end_time=list(map(int,end_time.split(\":\")))\n",
    "    gap_s=diff_time(start_time,end_time)\n",
    "    speed=int(meter*60*60/gap_s)\n",
    "    output_list[i]=[f\"{car_num} {speed}\",int(car_num)]\n",
    "\n",
    "output_list.sort(key=lambda x:x[1])\n",
    "for i in output_list: print(i[0])"
   ]
  },
  {
   "cell_type": "code",
   "execution_count": null,
   "id": "9ac87fa1",
   "metadata": {},
   "outputs": [
    {
     "name": "stdout",
     "output_type": "stream",
     "text": [
      "**\n",
      " **\n",
      "  **\n"
     ]
    }
   ],
   "source": [
    "# 구름 별 input=sys.stdin.readline\n",
    "N=int(input())\n",
    "for i in range(N):\n",
    "    print(\" \"*i,end=\"\")\n",
    "    print(\"**\")"
   ]
  }
 ],
 "metadata": {
  "kernelspec": {
   "display_name": "aivle",
   "language": "python",
   "name": "python3"
  },
  "language_info": {
   "codemirror_mode": {
    "name": "ipython",
    "version": 3
   },
   "file_extension": ".py",
   "mimetype": "text/x-python",
   "name": "python",
   "nbconvert_exporter": "python",
   "pygments_lexer": "ipython3",
   "version": "3.11.13"
  }
 },
 "nbformat": 4,
 "nbformat_minor": 5
}
