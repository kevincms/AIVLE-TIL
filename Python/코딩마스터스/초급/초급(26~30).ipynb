{
 "cells": [
  {
   "cell_type": "code",
   "execution_count": null,
   "id": "24ef28b9",
   "metadata": {},
   "outputs": [],
   "source": [
    "# 기둥 세우기 input=sys.stdin.readline\n",
    "# 오류\n",
    "N, M=map(int,input().split())\n",
    "rect=[[] for _ in range(N+1)]\n",
    "for i in range(1,N+1): rect[i]=[]+list(map(int,input().split()))\n",
    "N_list=[]\n",
    "M_list=[]\n",
    "for i in range(1,N+1):\n",
    "    if not 0 in rect[i]: N_list.append(i)\n",
    "for i in range(1,M+1):\n",
    "    if not 0 in rect[:][i]: M_list.append(i)   \n",
    "N_count=len(N_list)\n",
    "M_count=len(M_list)\n",
    "if N_count>M_count: print(N_count)\n",
    "else: print(M_count)"
   ]
  },
  {
   "cell_type": "code",
   "execution_count": 2,
   "id": "91e90f4e",
   "metadata": {},
   "outputs": [
    {
     "name": "stdout",
     "output_type": "stream",
     "text": [
      "7\n"
     ]
    }
   ],
   "source": [
    "# 내 이름이 적힌 번호 찾기 input=sys.stdin.readline\n",
    "N, name=input().split()\n",
    "name_list=list(input().split())\n",
    "N=int(N)\n",
    "for i in range(N):\n",
    "    if name_list[i]==name:\n",
    "        print(i+1)\n",
    "        break"
   ]
  },
  {
   "cell_type": "code",
   "execution_count": null,
   "id": "b1fb90c4",
   "metadata": {},
   "outputs": [
    {
     "name": "stdout",
     "output_type": "stream",
     "text": [
      "3\n"
     ]
    }
   ],
   "source": [
    "# 누적 합 input=sys.stdin.readline\n",
    "import math\n",
    "N=int(input())\n",
    "num_list=list(map(int,input().split()))\n",
    "\n",
    "m_count=math.ceil(math.log(N, 2))\n",
    "tree_list=[[] for _ in range(m_count+1)]\n",
    "z_count=(2**(m_count))-N\n",
    "\n",
    "tree_list[0]=num_list+[0]*z_count\n",
    "for i in range(1, m_count+1):\n",
    "    list_num=2**(m_count-i)\n",
    "    tree_list[i]=[0]*list_num\n",
    "    for j in range(list_num): tree_list[i][j]=tree_list[i-1][j*2]+tree_list[i-1][j*2+1]\n",
    "\n",
    "for tl in tree_list[::-1]: print(*tl,end=\" \\n\")"
   ]
  },
  {
   "cell_type": "code",
   "execution_count": 57,
   "id": "5a9f8c44",
   "metadata": {},
   "outputs": [
    {
     "name": "stdout",
     "output_type": "stream",
     "text": [
      "12\n"
     ]
    }
   ],
   "source": [
    "# 두더지 게임 input=sys.stdin.readline\n",
    "size=8\n",
    "board=[[] for _ in range(size+1)]\n",
    "for i in range(1, size+1): board[i]=[0]+list(input())\n",
    "bool_board=[[False]*(size+1) for _ in range(size+1)]\n",
    "for i in range(1, size+1):\n",
    "    start_index=1+((i+1)%2)\n",
    "    for j in range(start_index, size+1, 2):\n",
    "        bool_board[i][j]=True\n",
    "\n",
    "count=0\n",
    "for i in range(1, size+1):\n",
    "    for j in range(1, size+1):\n",
    "        if board[i][j]==\"F\" and bool_board[i][j]: count+=1\n",
    "print(count)"
   ]
  },
  {
   "cell_type": "code",
   "execution_count": null,
   "id": "1b6feab8",
   "metadata": {},
   "outputs": [
    {
     "name": "stdout",
     "output_type": "stream",
     "text": [
      "62 173 164 84 62 62 62 62 62 62\n"
     ]
    }
   ],
   "source": [
    "# 몇 번씩 나올까 input=sys.stdin.readline\n",
    "N=int(input())\n",
    "num_list=[0]*10\n",
    "digit_list=[]\n",
    "\n",
    "def get_num(d_count):\n",
    "    temp=10**(d_count+1)\n",
    "    front=N//temp\n",
    "    temp=10**(d_count)\n",
    "    middle=(N//temp)%10\n",
    "    back=N%temp\n",
    "    return front, middle, back\n",
    "\n",
    "digit_count=0\n",
    "f_num, m_num, b_num = get_num(digit_count)\n",
    "for i in range(10): num_list[i]+=f_num\n",
    "for i in range(1,m_num+1): num_list[i]+=1\n",
    "while True:\n",
    "    digit_count+=1\n",
    "    f_num, m_num, b_num = get_num(digit_count)\n",
    "    if f_num==0 and m_num==0: break\n",
    "\n",
    "    # front\n",
    "    for i in range(1,10): num_list[i]+=f_num*(10**digit_count)\n",
    "    \n",
    "    # back\n",
    "    for i in range(1,m_num): num_list[i]+=(10**digit_count)\n",
    "    num_list[m_num]+=(b_num+1)\n",
    "    # 0 처리\n",
    "    if f_num!=0: \n",
    "        ## front\n",
    "        num_list[0]+=(f_num-1)*(10**digit_count)\n",
    "        ## back\n",
    "        num_list[0]+=(10**digit_count)\n",
    "\n",
    "print(*num_list)"
   ]
  }
 ],
 "metadata": {
  "kernelspec": {
   "display_name": "aivle",
   "language": "python",
   "name": "python3"
  },
  "language_info": {
   "codemirror_mode": {
    "name": "ipython",
    "version": 3
   },
   "file_extension": ".py",
   "mimetype": "text/x-python",
   "name": "python",
   "nbconvert_exporter": "python",
   "pygments_lexer": "ipython3",
   "version": "3.11.13"
  }
 },
 "nbformat": 4,
 "nbformat_minor": 5
}
