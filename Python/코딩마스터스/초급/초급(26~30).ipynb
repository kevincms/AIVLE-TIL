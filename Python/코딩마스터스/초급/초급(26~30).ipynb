{
 "cells": [
  {
   "cell_type": "code",
   "execution_count": null,
   "id": "24ef28b9",
   "metadata": {},
   "outputs": [],
   "source": [
    "# 기둥 세우기 input=sys.stdin.readline\n",
    "N, M=map(int,input().split())\n",
    "rect=[[] for _ in range(N+1)]\n",
    "for i in range(1,N+1): rect[i]=[]+list(map(int,input().split()))\n",
    "N_list=[]\n",
    "M_list=[]\n",
    "for i in range(1,N+1):\n",
    "    if not 0 in rect[i]: N_list.append(i)\n",
    "for i in range(1,M+1):\n",
    "    if not 0 in rect[:][i]: M_list.append(i)   \n",
    "N_count=len(N_list)\n",
    "M_count=len(M_list)\n",
    "if N_count>M_count: print(N_count)\n",
    "else: print(M_count)"
   ]
  },
  {
   "cell_type": "code",
   "execution_count": null,
   "id": "1f61f4f3",
   "metadata": {},
   "outputs": [],
   "source": [
    "# 내 이름이 적힌 번호 찾기 input=sys.stdin.readline\n",
    "N, name=input().split()\n",
    "name_list=list(input().split())\n",
    "N=int(N)\n",
    "for i in range(N):\n",
    "    if name_list[i]==name:\n",
    "        print(i+1)\n",
    "        break"
   ]
  }
 ],
 "metadata": {
  "kernelspec": {
   "display_name": "aivle",
   "language": "python",
   "name": "python3"
  },
  "language_info": {
   "codemirror_mode": {
    "name": "ipython",
    "version": 3
   },
   "file_extension": ".py",
   "mimetype": "text/x-python",
   "name": "python",
   "nbconvert_exporter": "python",
   "pygments_lexer": "ipython3",
   "version": "3.11.13"
  }
 },
 "nbformat": 4,
 "nbformat_minor": 5
}
