{
 "cells": [
  {
   "cell_type": "code",
   "execution_count": null,
   "id": "3ceff382",
   "metadata": {},
   "outputs": [],
   "source": [
    "# 무향 그래프 1 input=sys.stdin.readline\n",
    "N, M=map(int,input().split())\n",
    "graph=[[0]*(N+1) for _ in range(N+1)]\n",
    "for _ in range(M):\n",
    "    n1, n2=map(int,input().split())\n",
    "    graph[n1][n2]=1\n",
    "    graph[n2][n1]=1\n",
    "\n",
    "for i in range(1,N+1):\n",
    "    print(*graph[i][1:], end=\" \\n\")"
   ]
  },
  {
   "cell_type": "code",
   "execution_count": null,
   "id": "d140606b",
   "metadata": {},
   "outputs": [],
   "source": [
    "# 문서 통계 input=sys.stdin.readline\n",
    "str=input()\n",
    "print(len(list(str)))\n",
    "print(len(list(str.split())))\n",
    "\n",
    "# 입력 #2 : A B. C D   E"
   ]
  },
  {
   "cell_type": "code",
   "execution_count": null,
   "id": "cb9c699b",
   "metadata": {},
   "outputs": [],
   "source": [
    "# 바닥 공사 1 input=sys.stdin.readline\n",
    "num=int(input())\n",
    "dp_list=[0]*(num+1)\n",
    "dp_list[1]=1; dp_list[2]=2\n",
    "\n",
    "def count_num(num):\n",
    "    if dp_list[num]==0:\n",
    "        dp_list[num]=count_num(num-1)+count_num(num-2)\n",
    "    return dp_list[num]\n",
    "\n",
    "print(count_num(num)%796796)"
   ]
  },
  {
   "cell_type": "code",
   "execution_count": null,
   "id": "1e20c8f1",
   "metadata": {},
   "outputs": [],
   "source": [
    "# 배수 만들기 input=sys.stdin.readline\n",
    "N=int(input())\n",
    "num_list=[0]*10\n",
    "input_list=list(map(int,input().split()))\n",
    "for i in input_list: num_list[i]+=1\n",
    "\n",
    "sum=0\n",
    "for i in range(1,10): sum+=(num_list[i]*i)\n",
    "cond_bool=(sum%3==0) and (num_list[0]>=2) and (num_list[0]!=N)\n",
    "\n",
    "if N==1 and num_list[0]==1: print(0)\n",
    "elif cond_bool:\n",
    "    for i in range(9,-1,-1): print(f\"{i}\"*num_list[i],end=\"\")\n",
    "    print()\n",
    "else: print(-1)\n"
   ]
  },
  {
   "cell_type": "code",
   "execution_count": null,
   "id": "e41fd5c3",
   "metadata": {},
   "outputs": [],
   "source": [
    "# 분리수거장 input=sys.stdin.readline\n",
    "N=int(input())\n",
    "apt=[[] for _ in range(N)]\n",
    "for i in range(N): apt[i]=list(map(int,input().split()))\n",
    "apt.sort(key=lambda x:x[0])\n",
    "\n",
    "apt_sum=0\n",
    "for i in range(N): apt_sum+=apt[i][1]\n",
    "apt_sum=apt_sum//2\n",
    "count_sum=0\n",
    "for apt_num, apt_count in apt:\n",
    "    count_sum+=apt_count\n",
    "    if count_sum>=apt_sum:\n",
    "        output=apt_num\n",
    "        break\n",
    "print(output)"
   ]
  }
 ],
 "metadata": {
  "kernelspec": {
   "display_name": "aivle",
   "language": "python",
   "name": "python3"
  },
  "language_info": {
   "codemirror_mode": {
    "name": "ipython",
    "version": 3
   },
   "file_extension": ".py",
   "mimetype": "text/x-python",
   "name": "python",
   "nbconvert_exporter": "python",
   "pygments_lexer": "ipython3",
   "version": "3.11.13"
  }
 },
 "nbformat": 4,
 "nbformat_minor": 5
}
