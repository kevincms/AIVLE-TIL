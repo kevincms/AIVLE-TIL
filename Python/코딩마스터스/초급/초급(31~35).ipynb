{
 "cells": [
  {
   "cell_type": "code",
   "execution_count": null,
   "id": "3ceff382",
   "metadata": {},
   "outputs": [],
   "source": [
    "# 무향 그래프 1 input=sys.stdin.readline\n",
    "N, M=map(int,input().split())\n",
    "graph=[[0]*(N+1) for _ in range(N+1)]\n",
    "for _ in range(M):\n",
    "    n1, n2=map(int,input().split())\n",
    "    graph[n1][n2]=1\n",
    "    graph[n2][n1]=1\n",
    "\n",
    "for i in range(1,N+1):\n",
    "    print(*graph[i][1:], end=\" \\n\")"
   ]
  },
  {
   "cell_type": "code",
   "execution_count": null,
   "id": "d140606b",
   "metadata": {},
   "outputs": [],
   "source": [
    "# 문서 통계 input=sys.stdin.readline\n",
    "str=input()\n",
    "print(len(list(str)))\n",
    "print(len(list(str.split())))\n",
    "\n",
    "# 입력 #2 : A B. C D   E"
   ]
  }
 ],
 "metadata": {
  "kernelspec": {
   "display_name": "aivle",
   "language": "python",
   "name": "python3"
  },
  "language_info": {
   "codemirror_mode": {
    "name": "ipython",
    "version": 3
   },
   "file_extension": ".py",
   "mimetype": "text/x-python",
   "name": "python",
   "nbconvert_exporter": "python",
   "pygments_lexer": "ipython3",
   "version": "3.11.13"
  }
 },
 "nbformat": 4,
 "nbformat_minor": 5
}
