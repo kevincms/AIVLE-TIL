{
 "cells": [
  {
   "cell_type": "code",
   "execution_count": 16,
   "id": "bfe2544e",
   "metadata": {},
   "outputs": [
    {
     "name": "stdout",
     "output_type": "stream",
     "text": [
      "0.3198484848484848484848484848484848484848484848484848484848484848484848484848484848484848484848484848\n"
     ]
    }
   ],
   "source": [
    "# 분수를 소수로 input=sys.stdin.readline\n",
    "p, q=map(int,input().split())\n",
    "place_count=int(input())\n",
    "num_list=[]\n",
    "def gcm(a, b):\n",
    "    if b>a: a, b=b, a\n",
    "    r=a%b\n",
    "    if r==0: return b\n",
    "    return gcm(b,r)\n",
    "gcm_num=gcm(p,q)\n",
    "p=p//gcm_num; q=q//gcm_num\n",
    "count=0\n",
    "num_list.append(p//q)\n",
    "num_list.append(\".\")\n",
    "temp=p\n",
    "while True:\n",
    "    temp=temp%q\n",
    "    temp=temp*10\n",
    "    num_list.append(temp//q)\n",
    "    count+=1\n",
    "    if count==(place_count+1): break\n",
    "\n",
    "if num_list[-1]>=5:\n",
    "    index=-1\n",
    "    while True:\n",
    "        index-=1\n",
    "        if num_list[index]==\".\":\n",
    "            num_list[index-1]+=1\n",
    "            break\n",
    "        num_list[index]+=1\n",
    "        num_list[index]=num_list[index]%10\n",
    "        if num_list[index]==0: continue\n",
    "        else: break\n",
    "num_list=list(map(str,num_list[:-1]))\n",
    "print(\"\".join(num_list))"
   ]
  },
  {
   "cell_type": "code",
   "execution_count": null,
   "id": "2b4aac8d",
   "metadata": {},
   "outputs": [],
   "source": [
    "# 사전 만들기 input=sys.stdin.readline\n",
    "N=int(input())\n",
    "word_list=[\"\"]*N\n",
    "for i in range(N): word_list[i]=input().strip()\n",
    "word_list.sort(key=lambda x:(len(x), x))\n",
    "\n",
    "print(word_list[0])\n",
    "for i in range(1, N): \n",
    "    if word_list[i]==word_list[i-1]: continue\n",
    "    print(word_list[i])"
   ]
  },
  {
   "cell_type": "code",
   "execution_count": null,
   "id": "d75a5206",
   "metadata": {},
   "outputs": [],
   "source": [
    "# 설거지 담당 input=sys.stdin.readline\n",
    "N=int(input())\n",
    "if N==1 or N==3 or N==5 or N==7: print(\"RUN\")\n",
    "else: print(\"STAY\")"
   ]
  }
 ],
 "metadata": {
  "kernelspec": {
   "display_name": "aivle",
   "language": "python",
   "name": "python3"
  },
  "language_info": {
   "codemirror_mode": {
    "name": "ipython",
    "version": 3
   },
   "file_extension": ".py",
   "mimetype": "text/x-python",
   "name": "python",
   "nbconvert_exporter": "python",
   "pygments_lexer": "ipython3",
   "version": "3.11.13"
  }
 },
 "nbformat": 4,
 "nbformat_minor": 5
}
