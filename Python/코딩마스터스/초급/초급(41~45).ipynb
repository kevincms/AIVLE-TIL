{
 "cells": [
  {
   "cell_type": "code",
   "execution_count": null,
   "id": "5a99d0c7",
   "metadata": {},
   "outputs": [],
   "source": [
    "# 오리 농법 input=sys.stdin.readline\n",
    "N=int(input())\n",
    "sqare=[[]for _ in range(N+1)]\n",
    "sqare[0]=[-1]*(N+1)\n",
    "for i in range(1,N+1): sqare[i]=[-1]+list(map(int,input().split()))\n",
    "\n",
    "delete_list=[[],[]]\n",
    "for i in range(1,N+1):\n",
    "    if 1 in sqare[i]: continue\n",
    "    elif 2 in sqare[i]: delete_list[0].append(i)\n",
    "\n",
    "for i in range(1,N+1):\n",
    "    check_2=False\n",
    "    for j in range(1,N+1):\n",
    "        if sqare[j][i]==1: break\n",
    "        elif sqare[j][i]==2: check_2=True\n",
    "\n",
    "        if check_2 and j==N: delete_list[1].append(i)\n",
    "\n",
    "for i in delete_list[0]:\n",
    "    for j in range(1,N+1):\n",
    "        if sqare[i][j]==2: sqare[i][j]=0\n",
    "\n",
    "for i in delete_list[1]:\n",
    "    for j in range(1,N+1):\n",
    "        if sqare[j][i]==2: sqare[j][i]=0\n",
    "\n",
    "count_2=0\n",
    "for i in range(1,N+1): count_2+=sqare[i].count(2)\n",
    "print(count_2)"
   ]
  },
  {
   "cell_type": "code",
   "execution_count": null,
   "id": "a37c87fc",
   "metadata": {},
   "outputs": [],
   "source": [
    "# 이별 30분 전 input=sys.stdin.readline\n",
    "h, m=map(int,input().split())\n",
    "if (m-30)<0: h=(h-1+24)%24\n",
    "m=(m-30+60)%60\n",
    "print(h,m)"
   ]
  },
  {
   "cell_type": "code",
   "execution_count": null,
   "id": "f4d27fd0",
   "metadata": {},
   "outputs": [],
   "source": [
    "# 정렬된 많은 원소 사이에서 특정 원소 찾기 input=sys.stdin.readline\n",
    "N, A=map(int,input().split())\n",
    "num_list=list(map(int,input().split()))\n",
    "try: print(num_list.index(A)+1)\n",
    "except: print(-1)"
   ]
  },
  {
   "cell_type": "code",
   "execution_count": null,
   "id": "4133eb5b",
   "metadata": {},
   "outputs": [],
   "source": [
    "# 조합 input=sys.stdin.readline\n",
    "import math\n",
    "A, B=map(int,input().split())\n",
    "print(math.comb(A,B))"
   ]
  },
  {
   "cell_type": "code",
   "execution_count": null,
   "id": "8ff42d6c",
   "metadata": {},
   "outputs": [],
   "source": [
    "# 주사위의 합 input=sys.stdin.readline\n",
    "N=int(input())\n",
    "dice=6\n",
    "for i in range(1,dice+1):\n",
    "    for j in range(1,dice+1):\n",
    "        if i+j==N: print(i, j)"
   ]
  }
 ],
 "metadata": {
  "kernelspec": {
   "display_name": "aivle",
   "language": "python",
   "name": "python3"
  },
  "language_info": {
   "codemirror_mode": {
    "name": "ipython",
    "version": 3
   },
   "file_extension": ".py",
   "mimetype": "text/x-python",
   "name": "python",
   "nbconvert_exporter": "python",
   "pygments_lexer": "ipython3",
   "version": "3.11.13"
  }
 },
 "nbformat": 4,
 "nbformat_minor": 5
}
