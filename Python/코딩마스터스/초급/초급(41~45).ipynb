{
 "cells": [
  {
   "cell_type": "code",
   "execution_count": null,
   "id": "5a99d0c7",
   "metadata": {},
   "outputs": [],
   "source": [
    "# 오리 농법 input=sys.stdin.readline\n",
    "N=int(input())\n",
    "sqare=[[]for _ in range(N+1)]\n",
    "sqare[0]=[-1]*(N+1)\n",
    "for i in range(1,N+1): sqare[i]=[-1]+list(map(int,input().split()))\n",
    "\n",
    "delete_list=[[],[]]\n",
    "for i in range(1,N+1):\n",
    "    if 1 in sqare[i]: continue\n",
    "    elif 2 in sqare[i]: delete_list[0].append(i)\n",
    "\n",
    "for i in range(1,N+1):\n",
    "    check_2=False\n",
    "    for j in range(1,N+1):\n",
    "        if sqare[j][i]==1: break\n",
    "        elif sqare[j][i]==2: check_2=True\n",
    "\n",
    "        if check_2 and j==N: delete_list[1].append(i)\n",
    "\n",
    "for i in delete_list[0]:\n",
    "    for j in range(1,N+1):\n",
    "        if sqare[i][j]==2: sqare[i][j]=0\n",
    "\n",
    "for i in delete_list[1]:\n",
    "    for j in range(1,N+1):\n",
    "        if sqare[j][i]==2: sqare[j][i]=0\n",
    "\n",
    "count_2=0\n",
    "for i in range(1,N+1): count_2+=sqare[i].count(2)\n",
    "print(count_2)"
   ]
  }
 ],
 "metadata": {
  "kernelspec": {
   "display_name": "aivle",
   "language": "python",
   "name": "python3"
  },
  "language_info": {
   "codemirror_mode": {
    "name": "ipython",
    "version": 3
   },
   "file_extension": ".py",
   "mimetype": "text/x-python",
   "name": "python",
   "nbconvert_exporter": "python",
   "pygments_lexer": "ipython3",
   "version": "3.11.13"
  }
 },
 "nbformat": 4,
 "nbformat_minor": 5
}
