{
 "cells": [
  {
   "cell_type": "code",
   "execution_count": null,
   "id": "3148a19f",
   "metadata": {},
   "outputs": [],
   "source": [
    "# 중앙 값 input=sys.stdin.readline\n",
    "num_list=list(map(int,input().split()))\n",
    "num_list.sort()\n",
    "print(num_list[2])"
   ]
  },
  {
   "cell_type": "code",
   "execution_count": null,
   "id": "91b4ca6e",
   "metadata": {},
   "outputs": [],
   "source": [
    "# 직각 삼각형 input=sys.stdin.readline\n",
    "s_list=list(map(int,input().split()))\n",
    "s_list.sort()\n",
    "if s_list[2]**2 == (s_list[1]**2+s_list[0]**2): print(\"YES\")\n",
    "else: print(\"NO\")"
   ]
  },
  {
   "cell_type": "code",
   "execution_count": null,
   "id": "7f0b3745",
   "metadata": {},
   "outputs": [],
   "source": [
    "# 커트라인 정하기 input=sys.stdin.readline\n",
    "N, K=map(int,input().split())\n",
    "score_list=list(map(int,input().split()))\n",
    "slice_list=sorted(score_list,reverse=True)\n",
    "output_k=-1\n",
    "output_score=-1\n",
    "for cut_line in slice_list:\n",
    "    bool_list=[False]*N\n",
    "    for i in range(N):\n",
    "        if score_list[i]>=cut_line:\n",
    "            bool_list[i]=True\n",
    "            if 0<=i-1<N: bool_list[i-1]=True\n",
    "            if 0<=i+1<N: bool_list[i+1]=True\n",
    "    temp_k=bool_list.count(True)\n",
    "    if temp_k<=K and output_k<temp_k:\n",
    "        output_k=temp_k\n",
    "        output_score=cut_line\n",
    "if output_score==-1: output_score=slice_list[-1]-1\n",
    "print(output_score)"
   ]
  }
 ],
 "metadata": {
  "language_info": {
   "name": "python"
  }
 },
 "nbformat": 4,
 "nbformat_minor": 5
}
