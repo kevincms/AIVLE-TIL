{
 "cells": [
  {
   "cell_type": "code",
   "execution_count": null,
   "id": "3148a19f",
   "metadata": {},
   "outputs": [],
   "source": [
    "# 중앙 값 input=sys.stdin.readline\n",
    "num_list=list(map(int,input().split()))\n",
    "num_list.sort()\n",
    "print(num_list[2])"
   ]
  },
  {
   "cell_type": "code",
   "execution_count": null,
   "id": "91b4ca6e",
   "metadata": {},
   "outputs": [],
   "source": [
    "# 직각 삼각형 input=sys.stdin.readline\n",
    "s_list=list(map(int,input().split()))\n",
    "s_list.sort()\n",
    "if s_list[2]**2 == (s_list[1]**2+s_list[0]**2): print(\"YES\")\n",
    "else: print(\"NO\")"
   ]
  }
 ],
 "metadata": {
  "language_info": {
   "name": "python"
  }
 },
 "nbformat": 4,
 "nbformat_minor": 5
}
