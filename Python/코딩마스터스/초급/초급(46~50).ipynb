{
 "cells": [
  {
   "cell_type": "code",
   "execution_count": null,
   "id": "3148a19f",
   "metadata": {},
   "outputs": [],
   "source": [
    "# 중앙 값 input=sys.stdin.readline\n",
    "num_list=list(map(int,input().split()))\n",
    "num_list.sort()\n",
    "print(num_list[2])"
   ]
  },
  {
   "cell_type": "code",
   "execution_count": null,
   "id": "91b4ca6e",
   "metadata": {},
   "outputs": [],
   "source": [
    "# 직각 삼각형 input=sys.stdin.readline\n",
    "s_list=list(map(int,input().split()))\n",
    "s_list.sort()\n",
    "if s_list[2]**2 == (s_list[1]**2+s_list[0]**2): print(\"YES\")\n",
    "else: print(\"NO\")"
   ]
  },
  {
   "cell_type": "code",
   "execution_count": null,
   "id": "7f0b3745",
   "metadata": {},
   "outputs": [],
   "source": [
    "# 커트라인 정하기 input=sys.stdin.readline\n",
    "N, K=map(int,input().split())\n",
    "score_list=list(map(int,input().split()))\n",
    "slice_list=sorted(score_list,reverse=True)\n",
    "output_k=-1\n",
    "output_score=-1\n",
    "for cut_line in slice_list:\n",
    "    bool_list=[False]*N\n",
    "    for i in range(N):\n",
    "        if score_list[i]>=cut_line:\n",
    "            bool_list[i]=True\n",
    "            if 0<=i-1<N: bool_list[i-1]=True\n",
    "            if 0<=i+1<N: bool_list[i+1]=True\n",
    "    temp_k=bool_list.count(True)\n",
    "    if temp_k<=K and output_k<temp_k:\n",
    "        output_k=temp_k\n",
    "        output_score=cut_line\n",
    "if output_score==-1: output_score=slice_list[-1]-1\n",
    "print(output_score)"
   ]
  },
  {
   "cell_type": "code",
   "execution_count": null,
   "id": "7c77a07a",
   "metadata": {},
   "outputs": [],
   "source": [
    "# 파스칼 피라미드 input=sys.stdin.readline\n",
    "N=int(input())\n",
    "p_list=[[0]*N for _ in range(N)]\n",
    "prev_list=[[0]*N for _ in range(N)]\n",
    "p_list[0][0]=1\n",
    "prev_list[0][0]=1\n",
    "for n in range(1,N):\n",
    "    for i in range(n+1):\n",
    "        for j in range(n+1):\n",
    "            p1=prev_list[i][j]\n",
    "            if 0<=i-1<=n: p2=prev_list[i-1][j]\n",
    "            else: p2=0\n",
    "            if 0<=j-1<=n: p3=prev_list[i][j-1]\n",
    "            else: p3=0\n",
    "            if i+j<n+1: p_list[i][j]=p1+p2+p3\n",
    "    for i in range(n+1):\n",
    "        for j in range(n+1):\n",
    "            prev_list[i][j]=p_list[i][j]\n",
    "\n",
    "for i in range(N):\n",
    "    for j in range(N):\n",
    "        if p_list[i][j]==0: break\n",
    "        print(p_list[i][j], end=\" \")\n",
    "    print()\n"
   ]
  },
  {
   "cell_type": "code",
   "execution_count": null,
   "id": "e61b25c1",
   "metadata": {},
   "outputs": [],
   "source": [
    "# 피보나치 피보나치 수열 input=sys.stdin.readline\n",
    "a, b=map(int,input().split())\n",
    "\n",
    "fi_list=[1,1]\n",
    "def fi(b_num,p_num=2):\n",
    "    fi_num=fi_list[-1]+fi_list[-2]\n",
    "    fi_list.append(fi_num)\n",
    "    p_num+=fi_num\n",
    "    if p_num>=b_num: return\n",
    "    else: fi(b_num,p_num)\n",
    "\n",
    "fifi_list=[0]\n",
    "fi(b)\n",
    "for i in fi_list: fifi_list=fifi_list+[i]*i\n",
    "\n",
    "print(sum(fifi_list[a:b+1]))"
   ]
  }
 ],
 "metadata": {
  "language_info": {
   "name": "python"
  }
 },
 "nbformat": 4,
 "nbformat_minor": 5
}
